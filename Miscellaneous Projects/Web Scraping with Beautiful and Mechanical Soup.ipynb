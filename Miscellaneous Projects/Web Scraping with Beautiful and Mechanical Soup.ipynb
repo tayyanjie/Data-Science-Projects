{
 "cells": [
  {
   "cell_type": "markdown",
   "metadata": {},
   "source": [
    "# Web Scraping with Beautiful and Mechanical Soup\n",
    "\n",
    "In this notebook, we will be doing the basics of web scrapping.\n",
    "\n",
    "To begin, Beautiful Soup and Mechanical Soup must be installed. Uncomment the cell below and run it if the packages have not yet been installed."
   ]
  },
  {
   "cell_type": "code",
   "execution_count": 1,
   "metadata": {},
   "outputs": [],
   "source": [
    "#!pip install beautifulsoup4\n",
    "#!pip install MechanicalSoup\n",
    "#!pip install lxml"
   ]
  },
  {
   "cell_type": "code",
   "execution_count": 2,
   "metadata": {},
   "outputs": [],
   "source": [
    "import mechanicalsoup\n",
    "from datetime import datetime\n",
    "import re\n",
    "import time"
   ]
  },
  {
   "cell_type": "markdown",
   "metadata": {},
   "source": [
    "\n",
    "# Table of Contents\n",
    "1. [Web Scraping of Singapore's Current Weather](#weather)\n",
    "2. [Text Messaging Abbreviations](#abb)\n",
    "3. [Scraping Data from Shopee](#shopee)"
   ]
  },
  {
   "cell_type": "markdown",
   "metadata": {},
   "source": [
    "## Web Scraping of Singapore's Current Weather <a name=\"weather\"></a>\n",
    "\n",
    "Mechanical Soup is used to scrap the weather details from http://www.weather.gov.sg/home.\n",
    "\n",
    "This is a simple webscrapping to scrap the current Temperature, wind speed and precipitation of Singapore.\n",
    "\n",
    "<Response [200]> indicates that the scrapping of the HTML from the site has succeeded."
   ]
  },
  {
   "cell_type": "code",
   "execution_count": 3,
   "metadata": {},
   "outputs": [
    {
     "data": {
      "text/plain": [
       "<Response [200]>"
      ]
     },
     "execution_count": 3,
     "metadata": {},
     "output_type": "execute_result"
    }
   ],
   "source": [
    "url = \"http://www.weather.gov.sg/home\"\n",
    "browser = mechanicalsoup.Browser()\n",
    "page = browser.get(url)\n",
    "now = datetime.now()\n",
    "current_datetime = now.strftime(\"%d %B %Y, %H:%M:%S\")\n",
    "page"
   ]
  },
  {
   "cell_type": "markdown",
   "metadata": {},
   "source": [
    "`page.soup.select` takes in the CSS selector as an argument to find all chunks that have that selector. For example, the minimum temperature and maximum temperature are found within a `<h2>` tag that is within a `<div>` tag that is found within a tag with a class called `.media`. The function returns a list of all chunks found.\n",
    "\n",
    "`.text` is used to obtained the text found within the chunk."
   ]
  },
  {
   "cell_type": "code",
   "execution_count": 4,
   "metadata": {},
   "outputs": [],
   "source": [
    "min_temp, max_temp = page.soup.select(\".media div h2\")\n",
    "min_temp = min_temp.text\n",
    "max_temp = max_temp.text"
   ]
  },
  {
   "cell_type": "code",
   "execution_count": 5,
   "metadata": {},
   "outputs": [],
   "source": [
    "forecast = page.soup.select(\".w-sky p\")[1].text"
   ]
  },
  {
   "cell_type": "code",
   "execution_count": 6,
   "metadata": {},
   "outputs": [],
   "source": [
    "precip, wind = page.soup.select(\".w-wind p\")\n",
    "precip = precip.text.strip()\n",
    "wind = wind.text.strip()"
   ]
  },
  {
   "cell_type": "markdown",
   "metadata": {},
   "source": [
    "Singapore's current weather forecast details are shown below:"
   ]
  },
  {
   "cell_type": "code",
   "execution_count": 7,
   "metadata": {},
   "outputs": [
    {
     "name": "stdout",
     "output_type": "stream",
     "text": [
      "Date: 19 May 2021, 11:09:53\n",
      "Minimum Temprature: 32°C\n",
      "Maximum Temperature: 23°C\n",
      "Precipitation: 55% - 80%\n",
      "Wind: SW 10 - 20 km/h\n",
      "Forecast: Thundery showers\n"
     ]
    }
   ],
   "source": [
    "print(\"Date:\", current_datetime)\n",
    "print(f\"Minimum Temprature: {min_temp}\\nMaximum Temperature: {max_temp}\")\n",
    "print(f\"Precipitation: {precip}\\nWind: {wind}\")\n",
    "print(\"Forecast:\", forecast)"
   ]
  },
  {
   "cell_type": "markdown",
   "metadata": {},
   "source": [
    "## Text Messaging Abbreviations <a name = 'abb'></a>\n",
    "Text Messaging Abbreviations are extracted from a [HTML site](https://www.webopedia.com/reference/text-abbreviations/) where the information found are in the `<table>` tag."
   ]
  },
  {
   "cell_type": "code",
   "execution_count": 8,
   "metadata": {},
   "outputs": [],
   "source": [
    "from bs4 import BeautifulSoup\n",
    "from urllib.request import urlopen, Request\n",
    "import pandas as pd"
   ]
  },
  {
   "cell_type": "markdown",
   "metadata": {},
   "source": [
    "The website requires a User Agent to check for bots. To use Beautiful Soup:"
   ]
  },
  {
   "cell_type": "code",
   "execution_count": 9,
   "metadata": {},
   "outputs": [],
   "source": [
    "url = \"https://www.webopedia.com/reference/text-abbreviations/\"\n",
    "req = Request(url, headers={'User-Agent':'Mozilla/5.0'})\n",
    "page = urlopen(req)\n",
    "html = page.read().decode(\"utf-8\")\n",
    "soup = BeautifulSoup(html, \"html.parser\")"
   ]
  },
  {
   "cell_type": "markdown",
   "metadata": {},
   "source": [
    "To use Mechanical Soup:"
   ]
  },
  {
   "cell_type": "code",
   "execution_count": 10,
   "metadata": {},
   "outputs": [
    {
     "data": {
      "text/plain": [
       "<Response [200]>"
      ]
     },
     "execution_count": 10,
     "metadata": {},
     "output_type": "execute_result"
    }
   ],
   "source": [
    "b = mechanicalsoup.StatefulBrowser()\n",
    "b.set_user_agent('my-awesome-script')\n",
    "b.get(url)"
   ]
  },
  {
   "cell_type": "markdown",
   "metadata": {},
   "source": [
    "The `<table>` tag is used to find the abbreviation table. As each entry in `<td>` is an entry of the table, there is a need to check which entry is for abbreviation and which is for the meaning column. In addition, there are titles in between the entries. Hence, to prevent them from being added into the table we are creating, we check the 'chat abbreviations' is not present in the entry."
   ]
  },
  {
   "cell_type": "code",
   "execution_count": 11,
   "metadata": {},
   "outputs": [],
   "source": [
    "tables = soup.find_all(\"table\")\n",
    "test = tables[0]\n",
    "\n",
    "td = test.find_all(\"td\")"
   ]
  },
  {
   "cell_type": "code",
   "execution_count": 12,
   "metadata": {},
   "outputs": [
    {
     "data": {
      "text/html": [
       "<div>\n",
       "<style scoped>\n",
       "    .dataframe tbody tr th:only-of-type {\n",
       "        vertical-align: middle;\n",
       "    }\n",
       "\n",
       "    .dataframe tbody tr th {\n",
       "        vertical-align: top;\n",
       "    }\n",
       "\n",
       "    .dataframe thead th {\n",
       "        text-align: right;\n",
       "    }\n",
       "</style>\n",
       "<table border=\"1\" class=\"dataframe\">\n",
       "  <thead>\n",
       "    <tr style=\"text-align: right;\">\n",
       "      <th></th>\n",
       "      <th>abb</th>\n",
       "      <th>meaning</th>\n",
       "    </tr>\n",
       "  </thead>\n",
       "  <tbody>\n",
       "    <tr>\n",
       "      <th>0</th>\n",
       "      <td>?</td>\n",
       "      <td>I have a question</td>\n",
       "    </tr>\n",
       "    <tr>\n",
       "      <th>1</th>\n",
       "      <td>?</td>\n",
       "      <td>I don’t understand what you mean</td>\n",
       "    </tr>\n",
       "    <tr>\n",
       "      <th>2</th>\n",
       "      <td>?4U</td>\n",
       "      <td>I have a question for you</td>\n",
       "    </tr>\n",
       "    <tr>\n",
       "      <th>3</th>\n",
       "      <td>;S</td>\n",
       "      <td>Gentle warning, like “Hmm? What did you say?”</td>\n",
       "    </tr>\n",
       "    <tr>\n",
       "      <th>4</th>\n",
       "      <td>^^</td>\n",
       "      <td>Meaning “read line” or “read message” above</td>\n",
       "    </tr>\n",
       "    <tr>\n",
       "      <th>...</th>\n",
       "      <td>...</td>\n",
       "      <td>...</td>\n",
       "    </tr>\n",
       "    <tr>\n",
       "      <th>1547</th>\n",
       "      <td>ZH</td>\n",
       "      <td>Sleeping Hour</td>\n",
       "    </tr>\n",
       "    <tr>\n",
       "      <th>1548</th>\n",
       "      <td>ZOMG</td>\n",
       "      <td>Used in World of Warcraft to mean OMG (Oh My God)</td>\n",
       "    </tr>\n",
       "    <tr>\n",
       "      <th>1549</th>\n",
       "      <td>ZOT</td>\n",
       "      <td>Zero tolerance</td>\n",
       "    </tr>\n",
       "    <tr>\n",
       "      <th>1550</th>\n",
       "      <td>ZUP</td>\n",
       "      <td>Meaning “What’s up?”</td>\n",
       "    </tr>\n",
       "    <tr>\n",
       "      <th>1551</th>\n",
       "      <td>ZZZZ</td>\n",
       "      <td>Sleeping (or bored)</td>\n",
       "    </tr>\n",
       "  </tbody>\n",
       "</table>\n",
       "<p>1552 rows × 2 columns</p>\n",
       "</div>"
      ],
      "text/plain": [
       "       abb                                            meaning\n",
       "0        ?                                  I have a question\n",
       "1        ?                   I don’t understand what you mean\n",
       "2      ?4U                          I have a question for you\n",
       "3       ;S      Gentle warning, like “Hmm? What did you say?”\n",
       "4       ^^        Meaning “read line” or “read message” above\n",
       "...    ...                                                ...\n",
       "1547    ZH                                      Sleeping Hour\n",
       "1548  ZOMG  Used in World of Warcraft to mean OMG (Oh My God)\n",
       "1549   ZOT                                     Zero tolerance\n",
       "1550   ZUP                               Meaning “What’s up?”\n",
       "1551  ZZZZ                                Sleeping (or bored)\n",
       "\n",
       "[1552 rows x 2 columns]"
      ]
     },
     "execution_count": 12,
     "metadata": {},
     "output_type": "execute_result"
    }
   ],
   "source": [
    "abb = []\n",
    "meaning = []\n",
    "abb_col = True # Boolean flag to check whether to add to abb or meaning.\n",
    "for i in range(len(td)):\n",
    "    # prevent titles from being added\n",
    "    if 'CHAT ABBREVIATIONS'.lower() in td[i].text.strip().lower():\n",
    "        abb_col = True\n",
    "    elif abb_col:\n",
    "        abb.append(td[i].text.strip())\n",
    "        abb_col = False\n",
    "    else:\n",
    "        meaning.append(td[i].text.strip())\n",
    "        abb_col = True\n",
    "\n",
    "pd.DataFrame(data = {\"abb\":abb, \"meaning\":meaning})"
   ]
  },
  {
   "cell_type": "markdown",
   "metadata": {},
   "source": [
    "## Scraping Data from Shopee <a name='shopee'></a>\n",
    "\n",
    "Shopee website is dynamic and some listings are only loaded upon scrolling. Hence, there is a need to use selenium to scroll the website. In addition, Shopee requires the use of javascript. \n"
   ]
  },
  {
   "cell_type": "code",
   "execution_count": 13,
   "metadata": {},
   "outputs": [],
   "source": [
    "#!pip install selenium"
   ]
  },
  {
   "cell_type": "code",
   "execution_count": 14,
   "metadata": {},
   "outputs": [],
   "source": [
    "from selenium import webdriver\n",
    "from selenium.webdriver.support.ui import WebDriverWait\n",
    "from selenium.webdriver.common.by import By\n",
    "from selenium.webdriver.support import expected_conditions as EC\n",
    "\n",
    "options = webdriver.ChromeOptions()\n",
    "options.add_argument('--headless')\n",
    "options.add_argument('start-maximized')\n",
    "options.add_argument('disable-infobars')\n",
    "options.add_argument('--disable-extensions')\n",
    "browser = webdriver.Ie(\"C:\\\\Users\\\\tayya\\\\Desktop\\\\IEDriverServer.exe\")"
   ]
  },
  {
   "cell_type": "markdown",
   "metadata": {},
   "source": [
    "In this example, we search bubble tea in the Dining and Services Category:"
   ]
  },
  {
   "cell_type": "code",
   "execution_count": 15,
   "metadata": {},
   "outputs": [],
   "source": [
    "url = \"https://shopee.sg/search?category=166&keyword=bubble%20tea&trackingId=searchhint-1621331087-ae9298f7-b7bd-11eb-9b29-f898ef6c82ca\""
   ]
  },
  {
   "cell_type": "code",
   "execution_count": 16,
   "metadata": {},
   "outputs": [],
   "source": [
    "def get_results(link, browser, max_pages = 999999):\n",
    "    # By default max_pages is a large number to search all pages based on the search\n",
    "    # max_pages can be modified to only obtain results from the first max_pages + 1 pages of search results\n",
    "    count = 0\n",
    "    r = []\n",
    "    scroll_pause_time = 1\n",
    "    # while loop to obtain all pages of entries based on search results.\n",
    "    while True:\n",
    "        url = link + '&page=' + str(count)\n",
    "        browser.get(url)\n",
    "        # Shopee Site has dynamic scrolling/loading. Hence scroll the page to ensure evyerthing is loaded.\n",
    "        while True:\n",
    "            time.sleep(scroll_pause_time)\n",
    "            last_height = browser.execute_script(\"return document.body.scrollHeight\")\n",
    "            #print(\"last height\",last_height)\n",
    "            browser.execute_script(\"window.scrollTo(0, document.body.scrollHeight);\")\n",
    "            time.sleep(scroll_pause_time)\n",
    "            new_height = browser.execute_script('return document.body.scrollHeight')\n",
    "            #print(\"new height\", new_height)\n",
    "            if new_height == last_height:\n",
    "                browser.execute_script('window.scrollTo(0, document.body.scrollHeight);')\n",
    "                time.sleep(scroll_pause_time)\n",
    "                new_height = browser.execute_script('return document.body.scrollHeight')\n",
    "            if new_height == last_height:\n",
    "                break\n",
    "            else:\n",
    "                last_height = new_height\n",
    "                continue\n",
    "        # Obtain the HTML \n",
    "        html = browser.execute_script(\"return document.getElementsByTagName('html')[0].innerHTML\")\n",
    "        # Parse using beautifulsoup\n",
    "        soup = BeautifulSoup(html, \"html.parser\")\n",
    "        \n",
    "        # If no more pages of search results, break from loop\n",
    "        if len(soup.select('.shopee-search-empty-result-section')) != 0:\n",
    "            break\n",
    "        # else add the search results into the list\n",
    "        r.extend(soup.select(\".col-xs-2-4.shopee-search-item-result__item a\"))\n",
    "        count += 1\n",
    "        if count + 1 > max_pages:\n",
    "            break\n",
    "        \n",
    "    #r = soup.select(\".col-xs-2-4.shopee-search-item-result__item a\")\n",
    "    Names = []\n",
    "    Prices = []\n",
    "    Original_Prices = []\n",
    "    for res in r:\n",
    "        # Obtain the name of the listing\n",
    "        name = re.findall('<a data-sqe=\"link\" href=\"/.{1,280}-i', str(res))[0][26:-2]\n",
    "        name = name.replace('-',' ')\n",
    "        \n",
    "        # Some of the listing have 2 prices, 1 being the discount price and the other being original price\n",
    "        prices = re.findall(\"\\$.{1,4}\\.[0-9][0-9]\", str(res.text))\n",
    "        original_price = 0\n",
    "        price = 0\n",
    "        if len(prices) == 2:\n",
    "            original_price, price = prices\n",
    "        else:\n",
    "            original_price = prices[0]\n",
    "            price = prices[0]\n",
    "        Names.append(name)\n",
    "        Prices.append(price)\n",
    "        Original_Prices.append(original_price)\n",
    "    df = pd.DataFrame(data={\"Name\":Names, \"Price\":Prices, \"Original Price\":Original_Prices})\n",
    "    return df"
   ]
  },
  {
   "cell_type": "code",
   "execution_count": 17,
   "metadata": {},
   "outputs": [],
   "source": [
    "df = get_results(url, browser)"
   ]
  },
  {
   "cell_type": "code",
   "execution_count": 18,
   "metadata": {},
   "outputs": [
    {
     "data": {
      "text/html": [
       "<div>\n",
       "<style scoped>\n",
       "    .dataframe tbody tr th:only-of-type {\n",
       "        vertical-align: middle;\n",
       "    }\n",
       "\n",
       "    .dataframe tbody tr th {\n",
       "        vertical-align: top;\n",
       "    }\n",
       "\n",
       "    .dataframe thead th {\n",
       "        text-align: right;\n",
       "    }\n",
       "</style>\n",
       "<table border=\"1\" class=\"dataframe\">\n",
       "  <thead>\n",
       "    <tr style=\"text-align: right;\">\n",
       "      <th></th>\n",
       "      <th>Name</th>\n",
       "      <th>Price</th>\n",
       "      <th>Original Price</th>\n",
       "    </tr>\n",
       "  </thead>\n",
       "  <tbody>\n",
       "    <tr>\n",
       "      <th>0</th>\n",
       "      <td>Takeaway Hollin 2 Large Sized Bubble Tea at Su...</td>\n",
       "      <td>$6.90</td>\n",
       "      <td>$11.80</td>\n",
       "    </tr>\n",
       "    <tr>\n",
       "      <th>1</th>\n",
       "      <td>Takeaway Hollin 2 Large Sized Bubble Tea at To...</td>\n",
       "      <td>$6.90</td>\n",
       "      <td>$11.80</td>\n",
       "    </tr>\n",
       "    <tr>\n",
       "      <th>2</th>\n",
       "      <td>Takeaway Hopii Bubble Tea Large Boba Milk Tea ...</td>\n",
       "      <td>$3.00</td>\n",
       "      <td>$5.80</td>\n",
       "    </tr>\n",
       "    <tr>\n",
       "      <th>3</th>\n",
       "      <td>Takeaway Chun Yang Tea Signature Bubble Tea at...</td>\n",
       "      <td>$4.00</td>\n",
       "      <td>$5.80</td>\n",
       "    </tr>\n",
       "    <tr>\n",
       "      <th>4</th>\n",
       "      <td>(Open now) Tropical Sunday 30 All Iced Tea and...</td>\n",
       "      <td>$6.00</td>\n",
       "      <td>$6.00</td>\n",
       "    </tr>\n",
       "    <tr>\n",
       "      <th>5</th>\n",
       "      <td>Western and Bubble Tea Family Meal Delivery</td>\n",
       "      <td>$49.90</td>\n",
       "      <td>$49.90</td>\n",
       "    </tr>\n",
       "    <tr>\n",
       "      <th>6</th>\n",
       "      <td>LiHO TEA Earl Grey Milk Tea Bubble Tea</td>\n",
       "      <td>$2.49</td>\n",
       "      <td>$4.00</td>\n",
       "    </tr>\n",
       "    <tr>\n",
       "      <th>7</th>\n",
       "      <td>Tiger Sugar Brown Sugar Signature Series Bubbl...</td>\n",
       "      <td>$5.60</td>\n",
       "      <td>$5.60</td>\n",
       "    </tr>\n",
       "    <tr>\n",
       "      <th>8</th>\n",
       "      <td>Takeaway Hopii Bubble Tea 2 Fresh Milk Bubble ...</td>\n",
       "      <td>$5.00</td>\n",
       "      <td>$6.80</td>\n",
       "    </tr>\n",
       "    <tr>\n",
       "      <th>9</th>\n",
       "      <td>Yan Xi Tang Strawberry Fresh Milk Bubble Tea</td>\n",
       "      <td>$2.99</td>\n",
       "      <td>$4.80</td>\n",
       "    </tr>\n",
       "    <tr>\n",
       "      <th>10</th>\n",
       "      <td>Takeaway Chun Yang Tea Signature Bubble Tea at...</td>\n",
       "      <td>$4.00</td>\n",
       "      <td>$5.80</td>\n",
       "    </tr>\n",
       "    <tr>\n",
       "      <th>11</th>\n",
       "      <td>Exclusive to Shopee Joy Luck Teahouse HK Bubb...</td>\n",
       "      <td>$2.99</td>\n",
       "      <td>$4.80</td>\n",
       "    </tr>\n",
       "    <tr>\n",
       "      <th>12</th>\n",
       "      <td>Tiger Sugar Tiger Fresh Milk Tea Series Bubble...</td>\n",
       "      <td>$4.60</td>\n",
       "      <td>$4.60</td>\n",
       "    </tr>\n",
       "    <tr>\n",
       "      <th>13</th>\n",
       "      <td>Artea Ceylon Bubble Milk Tea</td>\n",
       "      <td>$2.49</td>\n",
       "      <td>$3.90</td>\n",
       "    </tr>\n",
       "    <tr>\n",
       "      <th>14</th>\n",
       "      <td>Takeaway 1 for 1 Bubble Tea by Teabrary at Esp...</td>\n",
       "      <td>$4.90</td>\n",
       "      <td>$9.80</td>\n",
       "    </tr>\n",
       "    <tr>\n",
       "      <th>15</th>\n",
       "      <td>Yan Xi Tang Oreo Chocolate Fresh Milk(Large) B...</td>\n",
       "      <td>$4.00</td>\n",
       "      <td>$5.00</td>\n",
       "    </tr>\n",
       "    <tr>\n",
       "      <th>16</th>\n",
       "      <td>Takeaway No.17 Tea 1 for 1 Bubble Tea Dessert ...</td>\n",
       "      <td>$5.20</td>\n",
       "      <td>$10.40</td>\n",
       "    </tr>\n",
       "    <tr>\n",
       "      <th>17</th>\n",
       "      <td>BRU 1 for 1 Bubble Milk Tea (L)</td>\n",
       "      <td>$5.00</td>\n",
       "      <td>$10.00</td>\n",
       "    </tr>\n",
       "    <tr>\n",
       "      <th>18</th>\n",
       "      <td>(Open now) Tropical Sunday 30 Iced Milk Tea La...</td>\n",
       "      <td>$6.50</td>\n",
       "      <td>$6.50</td>\n",
       "    </tr>\n",
       "    <tr>\n",
       "      <th>19</th>\n",
       "      <td>Tiger Sugar Brown Sugar Signature Series Bubbl...</td>\n",
       "      <td>$10.00</td>\n",
       "      <td>$10.00</td>\n",
       "    </tr>\n",
       "    <tr>\n",
       "      <th>20</th>\n",
       "      <td>Takeaway Hopii Bubble Tea Passion Fruit Drink ...</td>\n",
       "      <td>$2.50</td>\n",
       "      <td>$4.30</td>\n",
       "    </tr>\n",
       "    <tr>\n",
       "      <th>21</th>\n",
       "      <td>Desserts bubble tea ( Freshly made daily )</td>\n",
       "      <td>$14.90</td>\n",
       "      <td>$14.90</td>\n",
       "    </tr>\n",
       "    <tr>\n",
       "      <th>22</th>\n",
       "      <td>Hollin 2 Large Sized Bubble Tea at Toa Payoh C...</td>\n",
       "      <td>$14.00</td>\n",
       "      <td>$14.00</td>\n",
       "    </tr>\n",
       "    <tr>\n",
       "      <th>23</th>\n",
       "      <td>Takeaway Hook Your Daily Dose 1 for 1 Bubble T...</td>\n",
       "      <td>$5.50</td>\n",
       "      <td>$11.00</td>\n",
       "    </tr>\n",
       "    <tr>\n",
       "      <th>24</th>\n",
       "      <td>Tiger Sugar Tiger Pure Tea Series Bubble Tea</td>\n",
       "      <td>$4.20</td>\n",
       "      <td>$4.20</td>\n",
       "    </tr>\n",
       "    <tr>\n",
       "      <th>25</th>\n",
       "      <td>Takeaway No.17 Tea 1 for 1 Bubble Tea Bubble T...</td>\n",
       "      <td>$5.20</td>\n",
       "      <td>$10.40</td>\n",
       "    </tr>\n",
       "    <tr>\n",
       "      <th>26</th>\n",
       "      <td>Jollibean Signature Chocolate Soy Pearl Bubble...</td>\n",
       "      <td>$3.90</td>\n",
       "      <td>$3.90</td>\n",
       "    </tr>\n",
       "    <tr>\n",
       "      <th>27</th>\n",
       "      <td>Jollibean Signature Matcha Soy Pearl Bubble Tea</td>\n",
       "      <td>$3.90</td>\n",
       "      <td>$3.90</td>\n",
       "    </tr>\n",
       "    <tr>\n",
       "      <th>28</th>\n",
       "      <td>Takeaway Hopii Bubble Tea Hopii Special Drinks...</td>\n",
       "      <td>$11.70</td>\n",
       "      <td>$15.60</td>\n",
       "    </tr>\n",
       "    <tr>\n",
       "      <th>29</th>\n",
       "      <td>Takeaway Cha Nung 1 for 1 Bubble Tea Chips Bun...</td>\n",
       "      <td>$7.40</td>\n",
       "      <td>$14.80</td>\n",
       "    </tr>\n",
       "    <tr>\n",
       "      <th>30</th>\n",
       "      <td>Tropical Sundays 1 for 1 Bubble Tea at Marina Bay</td>\n",
       "      <td>$6.00</td>\n",
       "      <td>$12.00</td>\n",
       "    </tr>\n",
       "    <tr>\n",
       "      <th>31</th>\n",
       "      <td>Living Botanica Teatime set (bubble tea cake)</td>\n",
       "      <td>$8.00</td>\n",
       "      <td>$12.00</td>\n",
       "    </tr>\n",
       "  </tbody>\n",
       "</table>\n",
       "</div>"
      ],
      "text/plain": [
       "                                                 Name   Price Original Price\n",
       "0   Takeaway Hollin 2 Large Sized Bubble Tea at Su...   $6.90         $11.80\n",
       "1   Takeaway Hollin 2 Large Sized Bubble Tea at To...   $6.90         $11.80\n",
       "2   Takeaway Hopii Bubble Tea Large Boba Milk Tea ...   $3.00          $5.80\n",
       "3   Takeaway Chun Yang Tea Signature Bubble Tea at...   $4.00          $5.80\n",
       "4   (Open now) Tropical Sunday 30 All Iced Tea and...   $6.00          $6.00\n",
       "5        Western and Bubble Tea Family Meal Delivery   $49.90         $49.90\n",
       "6              LiHO TEA Earl Grey Milk Tea Bubble Tea   $2.49          $4.00\n",
       "7   Tiger Sugar Brown Sugar Signature Series Bubbl...   $5.60          $5.60\n",
       "8   Takeaway Hopii Bubble Tea 2 Fresh Milk Bubble ...   $5.00          $6.80\n",
       "9        Yan Xi Tang Strawberry Fresh Milk Bubble Tea   $2.99          $4.80\n",
       "10  Takeaway Chun Yang Tea Signature Bubble Tea at...   $4.00          $5.80\n",
       "11   Exclusive to Shopee Joy Luck Teahouse HK Bubb...   $2.99          $4.80\n",
       "12  Tiger Sugar Tiger Fresh Milk Tea Series Bubble...   $4.60          $4.60\n",
       "13                       Artea Ceylon Bubble Milk Tea   $2.49          $3.90\n",
       "14  Takeaway 1 for 1 Bubble Tea by Teabrary at Esp...   $4.90          $9.80\n",
       "15  Yan Xi Tang Oreo Chocolate Fresh Milk(Large) B...   $4.00          $5.00\n",
       "16  Takeaway No.17 Tea 1 for 1 Bubble Tea Dessert ...   $5.20         $10.40\n",
       "17                    BRU 1 for 1 Bubble Milk Tea (L)   $5.00         $10.00\n",
       "18  (Open now) Tropical Sunday 30 Iced Milk Tea La...   $6.50          $6.50\n",
       "19  Tiger Sugar Brown Sugar Signature Series Bubbl...  $10.00         $10.00\n",
       "20  Takeaway Hopii Bubble Tea Passion Fruit Drink ...   $2.50          $4.30\n",
       "21         Desserts bubble tea ( Freshly made daily )  $14.90         $14.90\n",
       "22  Hollin 2 Large Sized Bubble Tea at Toa Payoh C...  $14.00         $14.00\n",
       "23  Takeaway Hook Your Daily Dose 1 for 1 Bubble T...   $5.50         $11.00\n",
       "24       Tiger Sugar Tiger Pure Tea Series Bubble Tea   $4.20          $4.20\n",
       "25  Takeaway No.17 Tea 1 for 1 Bubble Tea Bubble T...   $5.20         $10.40\n",
       "26  Jollibean Signature Chocolate Soy Pearl Bubble...   $3.90          $3.90\n",
       "27    Jollibean Signature Matcha Soy Pearl Bubble Tea   $3.90          $3.90\n",
       "28  Takeaway Hopii Bubble Tea Hopii Special Drinks...  $11.70         $15.60\n",
       "29  Takeaway Cha Nung 1 for 1 Bubble Tea Chips Bun...   $7.40         $14.80\n",
       "30  Tropical Sundays 1 for 1 Bubble Tea at Marina Bay   $6.00         $12.00\n",
       "31      Living Botanica Teatime set (bubble tea cake)   $8.00         $12.00"
      ]
     },
     "execution_count": 18,
     "metadata": {},
     "output_type": "execute_result"
    }
   ],
   "source": [
    "df"
   ]
  },
  {
   "cell_type": "markdown",
   "metadata": {},
   "source": [
    "References:<br>\n",
    "https://realpython.com/python-web-scraping-practical-introduction/#install-mechanicalsoup <br>\n",
    "https://stackoverflow.com/questions/20986631/how-can-i-scroll-a-web-page-using-selenium-webdriver-in-python\n",
    "\n",
    "Author: Tay Yan Jie<br>\n",
    "Last Updated: 19 May 2021"
   ]
  }
 ],
 "metadata": {
  "kernelspec": {
   "display_name": "Python 3",
   "language": "python",
   "name": "python3"
  },
  "language_info": {
   "codemirror_mode": {
    "name": "ipython",
    "version": 3
   },
   "file_extension": ".py",
   "mimetype": "text/x-python",
   "name": "python",
   "nbconvert_exporter": "python",
   "pygments_lexer": "ipython3",
   "version": "3.9.1"
  }
 },
 "nbformat": 4,
 "nbformat_minor": 4
}
