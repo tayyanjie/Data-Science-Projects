{
 "cells": [
  {
   "cell_type": "markdown",
   "metadata": {},
   "source": [
    "# Web Scrapping with Beautiful and Mechanical Soup\n",
    "\n",
    "In this notebook, we will be doing the basics of web scrapping.\n",
    "\n",
    "To begin, Beautiful Soup and Mechanical Soup must be installed. Uncomment the cell below and run it if the packages have not yet been installed."
   ]
  },
  {
   "cell_type": "code",
   "execution_count": 1,
   "metadata": {},
   "outputs": [],
   "source": [
    "#!pip install beautifulsoup4\n",
    "#!pip install MechanicalSoup\n",
    "#!pip install lxml"
   ]
  },
  {
   "cell_type": "code",
   "execution_count": 2,
   "metadata": {},
   "outputs": [],
   "source": [
    "import mechanicalsoup\n",
    "from datetime import datetime"
   ]
  },
  {
   "cell_type": "markdown",
   "metadata": {},
   "source": [
    "\n",
    "# Table of Contents\n",
    "1. [Web Scrapping of Singapore's Current Weather](#weather)\n",
    "2. [Text Messaging Abbreviations](#abb)"
   ]
  },
  {
   "cell_type": "markdown",
   "metadata": {},
   "source": [
    "## Web Scrapping of Singapore's Current Weather <a name=\"weather\"></a>\n",
    "\n",
    "Mechanical Soup is used to scrap the weather details from http://www.weather.gov.sg/home.\n",
    "\n",
    "This is a simple webscrapping to scrap the current Temperature, wind speed and precipitation of Singapore.\n",
    "\n",
    "<Response [200]> indicates that the scrapping of the HTML from the site has succeeded."
   ]
  },
  {
   "cell_type": "code",
   "execution_count": 3,
   "metadata": {},
   "outputs": [
    {
     "data": {
      "text/plain": [
       "<Response [200]>"
      ]
     },
     "execution_count": 3,
     "metadata": {},
     "output_type": "execute_result"
    }
   ],
   "source": [
    "url = \"http://www.weather.gov.sg/home\"\n",
    "browser = mechanicalsoup.Browser()\n",
    "page = browser.get(url)\n",
    "now = datetime.now()\n",
    "current_datetime = now.strftime(\"%d %B %Y, %H:%M:%S\")\n",
    "page"
   ]
  },
  {
   "cell_type": "markdown",
   "metadata": {},
   "source": [
    "`page.soup.select` takes in the CSS selector as an argument to find all chunks that have that selector. For example, the minimum temperature and maximum temperature are found within a `<h2>` tag that is within a `<div>` tag that is found within a tag with a class called `.media`. The function returns a list of all chunks found.\n",
    "\n",
    "`.text` is used to obtained the text found within the chunk."
   ]
  },
  {
   "cell_type": "code",
   "execution_count": 4,
   "metadata": {},
   "outputs": [],
   "source": [
    "min_temp, max_temp = page.soup.select(\".media div h2\")\n",
    "min_temp = min_temp.text\n",
    "max_temp = max_temp.text"
   ]
  },
  {
   "cell_type": "code",
   "execution_count": 5,
   "metadata": {},
   "outputs": [],
   "source": [
    "forecast = page.soup.select(\".w-sky p\")[1].text"
   ]
  },
  {
   "cell_type": "code",
   "execution_count": 6,
   "metadata": {},
   "outputs": [],
   "source": [
    "precip, wind = page.soup.select(\".w-wind p\")\n",
    "precip = precip.text.strip()\n",
    "wind = wind.text.strip()"
   ]
  },
  {
   "cell_type": "markdown",
   "metadata": {},
   "source": [
    "Singapore's current weather forecast details are shown below:"
   ]
  },
  {
   "cell_type": "code",
   "execution_count": 7,
   "metadata": {},
   "outputs": [
    {
     "name": "stdout",
     "output_type": "stream",
     "text": [
      "Date: 18 May 2021, 14:22:48\n",
      "Minimum Temprature: 31°C\n",
      "Maximum Temperature: 23°C\n",
      "Precipitation: 55% - 90%\n",
      "Wind: SW 5 - 10 km/h\n",
      "Forecast: Moderate Rain\n"
     ]
    }
   ],
   "source": [
    "print(\"Date:\", current_datetime)\n",
    "print(f\"Minimum Temprature: {min_temp}\\nMaximum Temperature: {max_temp}\")\n",
    "print(f\"Precipitation: {precip}\\nWind: {wind}\")\n",
    "print(\"Forecast:\", forecast)"
   ]
  },
  {
   "cell_type": "markdown",
   "metadata": {},
   "source": [
    "## Text Messaging Abbreviations <a name = 'abb'></a>\n",
    "Text Messaging Abbreviations are extracted from a [HTML site](https://www.webopedia.com/reference/text-abbreviations/) where the information found are in the `<table>` tag."
   ]
  },
  {
   "cell_type": "code",
   "execution_count": 8,
   "metadata": {},
   "outputs": [],
   "source": [
    "from bs4 import BeautifulSoup\n",
    "from urllib.request import urlopen, Request\n",
    "import pandas as pd"
   ]
  },
  {
   "cell_type": "markdown",
   "metadata": {},
   "source": [
    "The website requires a User Agent to check for bots. To use Beautiful Soup:"
   ]
  },
  {
   "cell_type": "code",
   "execution_count": 9,
   "metadata": {},
   "outputs": [],
   "source": [
    "url = \"https://www.webopedia.com/reference/text-abbreviations/\"\n",
    "req = Request(url, headers={'User-Agent':'Mozilla/5.0'})\n",
    "page = urlopen(req)\n",
    "html = page.read().decode(\"utf-8\")\n",
    "soup = BeautifulSoup(html, \"html.parser\")"
   ]
  },
  {
   "cell_type": "markdown",
   "metadata": {},
   "source": [
    "To use Mechanical Soup:"
   ]
  },
  {
   "cell_type": "code",
   "execution_count": 10,
   "metadata": {},
   "outputs": [
    {
     "data": {
      "text/plain": [
       "<Response [200]>"
      ]
     },
     "execution_count": 10,
     "metadata": {},
     "output_type": "execute_result"
    }
   ],
   "source": [
    "b = mechanicalsoup.StatefulBrowser()\n",
    "b.set_user_agent('my-awesome-script')\n",
    "b.get(url)"
   ]
  },
  {
   "cell_type": "markdown",
   "metadata": {},
   "source": [
    "The `<table>` tag is used to find the abbreviation table. As each entry in `<td>` is an entry of the table, there is a need to check which entry is for abbreviation and which is for the meaning column. In addition, there are titles in between the entries. Hence, to prevent them from being added into the table we are creating, we check the 'chat abbreviations' is not present in the entry."
   ]
  },
  {
   "cell_type": "code",
   "execution_count": 11,
   "metadata": {},
   "outputs": [],
   "source": [
    "tables = soup.find_all(\"table\")\n",
    "test = tables[0]\n",
    "\n",
    "td = test.find_all(\"td\")"
   ]
  },
  {
   "cell_type": "code",
   "execution_count": 12,
   "metadata": {},
   "outputs": [
    {
     "data": {
      "text/html": [
       "<div>\n",
       "<style scoped>\n",
       "    .dataframe tbody tr th:only-of-type {\n",
       "        vertical-align: middle;\n",
       "    }\n",
       "\n",
       "    .dataframe tbody tr th {\n",
       "        vertical-align: top;\n",
       "    }\n",
       "\n",
       "    .dataframe thead th {\n",
       "        text-align: right;\n",
       "    }\n",
       "</style>\n",
       "<table border=\"1\" class=\"dataframe\">\n",
       "  <thead>\n",
       "    <tr style=\"text-align: right;\">\n",
       "      <th></th>\n",
       "      <th>abb</th>\n",
       "      <th>meaning</th>\n",
       "    </tr>\n",
       "  </thead>\n",
       "  <tbody>\n",
       "    <tr>\n",
       "      <th>0</th>\n",
       "      <td>?</td>\n",
       "      <td>I have a question</td>\n",
       "    </tr>\n",
       "    <tr>\n",
       "      <th>1</th>\n",
       "      <td>?</td>\n",
       "      <td>I don’t understand what you mean</td>\n",
       "    </tr>\n",
       "    <tr>\n",
       "      <th>2</th>\n",
       "      <td>?4U</td>\n",
       "      <td>I have a question for you</td>\n",
       "    </tr>\n",
       "    <tr>\n",
       "      <th>3</th>\n",
       "      <td>;S</td>\n",
       "      <td>Gentle warning, like “Hmm? What did you say?”</td>\n",
       "    </tr>\n",
       "    <tr>\n",
       "      <th>4</th>\n",
       "      <td>^^</td>\n",
       "      <td>Meaning “read line” or “read message” above</td>\n",
       "    </tr>\n",
       "    <tr>\n",
       "      <th>...</th>\n",
       "      <td>...</td>\n",
       "      <td>...</td>\n",
       "    </tr>\n",
       "    <tr>\n",
       "      <th>1547</th>\n",
       "      <td>ZH</td>\n",
       "      <td>Sleeping Hour</td>\n",
       "    </tr>\n",
       "    <tr>\n",
       "      <th>1548</th>\n",
       "      <td>ZOMG</td>\n",
       "      <td>Used in World of Warcraft to mean OMG (Oh My God)</td>\n",
       "    </tr>\n",
       "    <tr>\n",
       "      <th>1549</th>\n",
       "      <td>ZOT</td>\n",
       "      <td>Zero tolerance</td>\n",
       "    </tr>\n",
       "    <tr>\n",
       "      <th>1550</th>\n",
       "      <td>ZUP</td>\n",
       "      <td>Meaning “What’s up?”</td>\n",
       "    </tr>\n",
       "    <tr>\n",
       "      <th>1551</th>\n",
       "      <td>ZZZZ</td>\n",
       "      <td>Sleeping (or bored)</td>\n",
       "    </tr>\n",
       "  </tbody>\n",
       "</table>\n",
       "<p>1552 rows × 2 columns</p>\n",
       "</div>"
      ],
      "text/plain": [
       "       abb                                            meaning\n",
       "0        ?                                  I have a question\n",
       "1        ?                   I don’t understand what you mean\n",
       "2      ?4U                          I have a question for you\n",
       "3       ;S      Gentle warning, like “Hmm? What did you say?”\n",
       "4       ^^        Meaning “read line” or “read message” above\n",
       "...    ...                                                ...\n",
       "1547    ZH                                      Sleeping Hour\n",
       "1548  ZOMG  Used in World of Warcraft to mean OMG (Oh My God)\n",
       "1549   ZOT                                     Zero tolerance\n",
       "1550   ZUP                               Meaning “What’s up?”\n",
       "1551  ZZZZ                                Sleeping (or bored)\n",
       "\n",
       "[1552 rows x 2 columns]"
      ]
     },
     "execution_count": 12,
     "metadata": {},
     "output_type": "execute_result"
    }
   ],
   "source": [
    "abb = []\n",
    "meaning = []\n",
    "abb_col = True # Boolean flag to check whether to add to abb or meaning.\n",
    "for i in range(len(td)):\n",
    "    # prevent titles from being added\n",
    "    if 'CHAT ABBREVIATIONS'.lower() in td[i].text.strip().lower():\n",
    "        abb_col = True\n",
    "    elif abb_col:\n",
    "        abb.append(td[i].text.strip())\n",
    "        abb_col = False\n",
    "    else:\n",
    "        meaning.append(td[i].text.strip())\n",
    "        abb_col = True\n",
    "\n",
    "pd.DataFrame(data = {\"abb\":abb, \"meaning\":meaning})"
   ]
  },
  {
   "cell_type": "markdown",
   "metadata": {},
   "source": [
    "References:<br>\n",
    "https://realpython.com/python-web-scraping-practical-introduction/#install-mechanicalsoup\n",
    "\n",
    "Author: Tay Yan Jie<br>\n",
    "Last Updated: 18 May 2021"
   ]
  }
 ],
 "metadata": {
  "kernelspec": {
   "display_name": "Python 3",
   "language": "python",
   "name": "python3"
  },
  "language_info": {
   "codemirror_mode": {
    "name": "ipython",
    "version": 3
   },
   "file_extension": ".py",
   "mimetype": "text/x-python",
   "name": "python",
   "nbconvert_exporter": "python",
   "pygments_lexer": "ipython3",
   "version": "3.9.1"
  }
 },
 "nbformat": 4,
 "nbformat_minor": 4
}
